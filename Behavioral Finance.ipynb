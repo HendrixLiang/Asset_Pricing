{
 "cells": [
  {
   "cell_type": "code",
   "execution_count": 13,
   "metadata": {},
   "outputs": [],
   "source": [
    "import numpy as np\n",
    "import matplotlib.pyplot as plt\n",
    "from scipy.optimize import bisect"
   ]
  },
  {
   "cell_type": "markdown",
   "metadata": {},
   "source": [
    "> Consider a Barberis, Huang and Santos (2001) economy with the following parameter choices for the investor's utility function:\n",
    "δ=0.99,γ=1,λ=2\n",
    "Consumption growth has a lognormal distribution:\n",
    "lng̃ =0.02+0.02ϵ̃ \n",
    "where epsilon is a standard normal random variable. With these parameter choices, the risk-free rate is constant at 1.0303 per year. \n",
    "Simulate the distribution for consumption growth with at least 10,000 random draws for epsilon. \n"
   ]
  },
  {
   "cell_type": "code",
   "execution_count": 15,
   "metadata": {},
   "outputs": [],
   "source": [
    "g=[]\n",
    "for i in range(10000):\n",
    "    epsilon=np.random.randn()\n",
    "    a=np.random.rand()\n",
    "    if a>0.01:\n",
    "        nu=0\n",
    "    else:\n",
    "        nu=np.log(0.5)\n",
    "    gi=np.exp(0.02+0.02*epsilon+nu)\n",
    "    g.append(gi)\n",
    "g=np.array(g)"
   ]
  },
  {
   "cell_type": "markdown",
   "metadata": {},
   "source": [
    ">Define x as one plus the dividend-price ratio for the market portfolio:Define x as one plus the dividend-price ratio for the market portfolio:\n",
    "x=(1+P/D)D/P=1+D/P\n",
    "and define the error term:\n",
    "e(x)=0.99b0E[ν̂ (xg̃ )]+0.99x−1\n",
    "where utility from financial gain or loss is given by:\n",
    "ν̂ (R)=R−1.0303 for R≥1.0303\n",
    "ν̂ (R)=2(R−1.0303)forR<1.0303\n",
    "Calculate the equilibrium values of x for b0 in the range [0, 10] in increments of 0.1, using an iterative procedure known as bisection search:"
   ]
  },
  {
   "cell_type": "code",
   "execution_count": 18,
   "metadata": {},
   "outputs": [
    {
     "name": "stdout",
     "output_type": "stream",
     "text": [
      "x [1.01010101 1.01163148 1.0128133  1.01375765 1.01453181 1.01517906\n",
      " 1.01572899 1.01620254 1.016615   1.01697742 1.01729854 1.01758522\n",
      " 1.01784281 1.01807561 1.01828701 1.01847991 1.01865664 1.01881906\n",
      " 1.01896891 1.01910761 1.01923643 1.01935634 1.01946825 1.01957297\n",
      " 1.01967115 1.01976338 1.01985022 1.01993208 1.02000939 1.02008254\n",
      " 1.02015185 1.02021762 1.02028009 1.0203395  1.02039608 1.02045005\n",
      " 1.02050157 1.0205508  1.02059788 1.02064297 1.02068618 1.02072763\n",
      " 1.02076742 1.02080565 1.02084242 1.02087781 1.02091189 1.02094474\n",
      " 1.02097642 1.02100699 1.0210365  1.02106501 1.02109258 1.02111924\n",
      " 1.02114505 1.02117004 1.02119426 1.02121773 1.0212405  1.02126259\n",
      " 1.02128404 1.02130487 1.0213251  1.02134477 1.02136389 1.02138249\n",
      " 1.02140059 1.02141821 1.02143538 1.02145209 1.02146838 1.02148426\n",
      " 1.02149975 1.02151485 1.02152958 1.02154396 1.021558   1.02157171\n",
      " 1.0215851  1.02159819 1.02161097 1.02162347 1.0216357  1.02164765\n",
      " 1.02165935 1.02167079 1.02168199 1.02169296 1.02170369 1.02171421\n",
      " 1.02172451 1.02173461 1.0217445  1.0217542  1.0217637  1.02177303\n",
      " 1.02178217 1.02179114 1.02179994 1.02180858 1.02181706]\n"
     ]
    }
   ],
   "source": [
    "rf=1.0303\n",
    "def nuhat(R):\n",
    "    if R>rf:\n",
    "        return R-rf\n",
    "    if R<rf:\n",
    "        return 2*(R-rf)\n",
    "def error(x,g,b0):\n",
    "    nu=0\n",
    "    for i in g:\n",
    "        nui=nuhat(i*x)\n",
    "        nu+=nui\n",
    "    nu=nu/len(g)\n",
    "    return 0.99*b0*nu+0.99*x-1\n",
    "\n",
    "#compute x, for one b0, get one xi \n",
    "b0=np.linspace(0,10,101)\n",
    "x=[]\n",
    "for i in b0:\n",
    "    xi=bisect(lambda x: error(x,g,i),1,1.1)\n",
    "    x.append(xi)\n",
    "x=np.array(x)\n",
    "print('x',x)"
   ]
  },
  {
   "cell_type": "markdown",
   "metadata": {},
   "source": [
    ">Use x to calculate the price-dividend ratio for the market portfolio:\n",
    "P/D=1/(x−1)\n",
    "Plot the price-dividend ratio (on the vertical axis) vs b0 (on the horizontal axis)."
   ]
  },
  {
   "cell_type": "code",
   "execution_count": 19,
   "metadata": {},
   "outputs": [
    {
     "data": {
      "image/png": "[encoded data removed]",
      "text/plain": [
       "<Figure size 432x288 with 1 Axes>"
      ]
     },
     "metadata": {
      "needs_background": "light"
     },
     "output_type": "display_data"
    }
   ],
   "source": [
    "PDratio=1/(x-1)\n",
    "plt.plot(b0,PDratio)\n",
    "plt.xlabel('b0')\n",
    "plt.ylabel('PDratio')\n",
    "plt.title('PDratio VS b0')\n",
    "plt.show()"
   ]
  },
  {
   "cell_type": "markdown",
   "metadata": {},
   "source": [
    ">calculate the expected market return:\n",
    "E[Rm]=E[xg̃ ]\n",
    "Plot the equity premium (on the vertical axis) vs b0 (on the horizontal axis)."
   ]
  },
  {
   "cell_type": "code",
   "execution_count": 20,
   "metadata": {},
   "outputs": [
    {
     "data": {
      "image/png": "[encoded data removed]",
      "text/plain": [
       "<Figure size 432x288 with 1 Axes>"
      ]
     },
     "metadata": {
      "needs_background": "light"
     },
     "output_type": "display_data"
    }
   ],
   "source": [
    "rm=x*(g.mean())\n",
    "premium=rm-rf\n",
    "plt.plot(b0,premium)\n",
    "plt.xlabel('b0')\n",
    "plt.ylabel('Equity premium')\n",
    "plt.title('Equity premium VS b0')\n",
    "plt.show()"
   ]
  },
  {
   "cell_type": "markdown",
   "metadata": {},
   "source": [
    "##### Investor's utility function for financial gain or loss [i.e., nuhat(R)]:\n",
    "Adding the investor’s utility function for financial gain or loss to investors’ preference allows us to incorporate the prospect theory, where financial gain or loss is measured relative to reference level based on risk-free rate\n"
   ]
  },
  {
   "cell_type": "markdown",
   "metadata": {},
   "source": [
    "##### Parameter lambda:\n",
    "Investor is more sensitive to financial loss than financial gain, and lambda determines degree of loss aversion, so lambda must be bigger than 1. The more sensitive the investors are to financial losses, the bigger the lambda. \n"
   ]
  },
  {
   "cell_type": "markdown",
   "metadata": {},
   "source": [
    "##### Parameter b0 :\n",
    "b0 determines amount of emphasis that investor puts on utility from financial gain or loss, compared to utility of consumption. Equity premium will increase with b0, as investors puts more emphasis in utility from financial gain or loss"
   ]
  },
  {
   "cell_type": "markdown",
   "metadata": {},
   "source": []
  },
  {
   "cell_type": "code",
   "execution_count": null,
   "metadata": {},
   "outputs": [],
   "source": []
  }
 ],
 "metadata": {
  "kernelspec": {
   "display_name": "Python 3",
   "language": "python",
   "name": "python3"
  },
  "language_info": {
   "codemirror_mode": {
    "name": "ipython",
    "version": 3
   },
   "file_extension": ".py",
   "mimetype": "text/x-python",
   "name": "python",
   "nbconvert_exporter": "python",
   "pygments_lexer": "ipython3",
   "version": "3.8.3"
  }
 },
 "nbformat": 4,
 "nbformat_minor": 4
}
