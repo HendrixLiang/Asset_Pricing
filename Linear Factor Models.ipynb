{
 "cells": [
  {
   "cell_type": "code",
   "execution_count": 66,
   "metadata": {},
   "outputs": [],
   "source": [
    "import pandas as pd\n",
    "import numpy as np\n",
    "import matplotlib.pyplot as plt\n",
    "from IPython.display import display, HTML"
   ]
  },
  {
   "cell_type": "code",
   "execution_count": 67,
   "metadata": {},
   "outputs": [],
   "source": [
    "market=pd.read_excel('Market_Portfolio.xlsx',header=0,names=range(0,2))\n",
    "industry=pd.read_excel('Industry_Portfolios.xlsx',header=0,names = range(0,11))\n"
   ]
  },
  {
   "cell_type": "markdown",
   "metadata": {},
   "source": [
    "#### Regress the monthly excess returns for each of the ten industry portfolios on the monthly excess returns for the market portfolio, so as to estimate the intercept coefficient (alpha) and slope coefficient (beta) for each of the ten industry portfolios.Create a table showing the intercept and slope coefficients for the ten industry portfolios"
   ]
  },
  {
   "cell_type": "code",
   "execution_count": 68,
   "metadata": {},
   "outputs": [
    {
     "name": "stdout",
     "output_type": "stream",
     "text": [
      "[0.36944288006820153, -0.4155990763168844, 0.1597708349575717, 0.5017185727422063, -0.06401952750987767, 0.19469092881013042, 0.27549215482708167, 0.23784118712422314, 0.444584616276969, -0.3871345212123553]\n",
      "[0.652647355963541, 1.648535649966647, 1.1698462964148781, 0.9698499564640055, 1.1329694391423129, 0.9007292509476117, 0.8264924015201599, 0.6730356956329144, 0.5380861001316399, 1.2073094586151105]\n"
     ]
    },
    {
     "data": {
      "text/html": [
       "<div>\n",
       "<style scoped>\n",
       "    .dataframe tbody tr th:only-of-type {\n",
       "        vertical-align: middle;\n",
       "    }\n",
       "\n",
       "    .dataframe tbody tr th {\n",
       "        vertical-align: top;\n",
       "    }\n",
       "\n",
       "    .dataframe thead th {\n",
       "        text-align: right;\n",
       "    }\n",
       "</style>\n",
       "<table border=\"1\" class=\"dataframe\">\n",
       "  <thead>\n",
       "    <tr style=\"text-align: right;\">\n",
       "      <th></th>\n",
       "      <th>NoDur</th>\n",
       "      <th>Durbl</th>\n",
       "      <th>Manuf</th>\n",
       "      <th>Enrgy</th>\n",
       "      <th>HiTec</th>\n",
       "      <th>Telcm</th>\n",
       "      <th>Shops</th>\n",
       "      <th>Hlth</th>\n",
       "      <th>Utils</th>\n",
       "      <th>Other</th>\n",
       "    </tr>\n",
       "  </thead>\n",
       "  <tbody>\n",
       "    <tr>\n",
       "      <th>alpha</th>\n",
       "      <td>0.369443</td>\n",
       "      <td>-0.415599</td>\n",
       "      <td>0.159771</td>\n",
       "      <td>0.501719</td>\n",
       "      <td>-0.06402</td>\n",
       "      <td>0.194691</td>\n",
       "      <td>0.275492</td>\n",
       "      <td>0.237841</td>\n",
       "      <td>0.444585</td>\n",
       "      <td>-0.387135</td>\n",
       "    </tr>\n",
       "  </tbody>\n",
       "</table>\n",
       "</div>"
      ],
      "text/plain": [
       "          NoDur     Durbl     Manuf     Enrgy    HiTec     Telcm     Shops  \\\n",
       "alpha  0.369443 -0.415599  0.159771  0.501719 -0.06402  0.194691  0.275492   \n",
       "\n",
       "           Hlth     Utils     Other  \n",
       "alpha  0.237841  0.444585 -0.387135  "
      ]
     },
     "metadata": {},
     "output_type": "display_data"
    },
    {
     "data": {
      "text/html": [
       "<div>\n",
       "<style scoped>\n",
       "    .dataframe tbody tr th:only-of-type {\n",
       "        vertical-align: middle;\n",
       "    }\n",
       "\n",
       "    .dataframe tbody tr th {\n",
       "        vertical-align: top;\n",
       "    }\n",
       "\n",
       "    .dataframe thead th {\n",
       "        text-align: right;\n",
       "    }\n",
       "</style>\n",
       "<table border=\"1\" class=\"dataframe\">\n",
       "  <thead>\n",
       "    <tr style=\"text-align: right;\">\n",
       "      <th></th>\n",
       "      <th>NoDur</th>\n",
       "      <th>Durbl</th>\n",
       "      <th>Manuf</th>\n",
       "      <th>Enrgy</th>\n",
       "      <th>HiTec</th>\n",
       "      <th>Telcm</th>\n",
       "      <th>Shops</th>\n",
       "      <th>Hlth</th>\n",
       "      <th>Utils</th>\n",
       "      <th>Other</th>\n",
       "    </tr>\n",
       "  </thead>\n",
       "  <tbody>\n",
       "    <tr>\n",
       "      <th>beta</th>\n",
       "      <td>0.652647</td>\n",
       "      <td>1.648536</td>\n",
       "      <td>1.169846</td>\n",
       "      <td>0.96985</td>\n",
       "      <td>1.132969</td>\n",
       "      <td>0.900729</td>\n",
       "      <td>0.826492</td>\n",
       "      <td>0.673036</td>\n",
       "      <td>0.538086</td>\n",
       "      <td>1.207309</td>\n",
       "    </tr>\n",
       "  </tbody>\n",
       "</table>\n",
       "</div>"
      ],
      "text/plain": [
       "         NoDur     Durbl     Manuf    Enrgy     HiTec     Telcm     Shops  \\\n",
       "beta  0.652647  1.648536  1.169846  0.96985  1.132969  0.900729  0.826492   \n",
       "\n",
       "          Hlth     Utils     Other  \n",
       "beta  0.673036  0.538086  1.207309  "
      ]
     },
     "metadata": {},
     "output_type": "display_data"
    }
   ],
   "source": [
    "Rf=0.13\n",
    "excess_market= np.array(market[1])-Rf\n",
    "alpha=[]\n",
    "beta=[]\n",
    "for i in range(1,11):\n",
    "    excess_asset=np.array(industry[i])-Rf\n",
    "    reg=np.polyfit(excess_market,excess_asset,deg=1)\n",
    "    alpha=alpha+[reg[1]]\n",
    "    beta=beta+[reg[0]]\n",
    "print(alpha)\n",
    "print(beta)\n",
    "a=np.matrix(alpha).T\n",
    "b=np.matrix(beta).T\n",
    "alpha_table= pd.DataFrame(a.T,columns=['NoDur', 'Durbl', 'Manuf', 'Enrgy', 'HiTec', 'Telcm', 'Shops', 'Hlth', 'Utils', 'Other'],index=[\"alpha\"])\n",
    "beta_table= pd.DataFrame(b.T,columns=['NoDur', 'Durbl', 'Manuf', 'Enrgy', 'HiTec', 'Telcm', 'Shops', 'Hlth', 'Utils', 'Other'],index=[\"beta\"])\n",
    "display(alpha_table)\n",
    "display(beta_table)"
   ]
  },
  {
   "cell_type": "markdown",
   "metadata": {},
   "source": [
    "#### Briefly explain the economic significance of the intercept and slope coefficients."
   ]
  },
  {
   "cell_type": "markdown",
   "metadata": {},
   "source": [
    ">Alpha depends on the portfolio itself called unsystemic risk.\n",
    "while Beta represents degree of asset’s exposure to market risk. It considers as the systemic risk of a portfolio. When the market goes up, the contribution of this part to the portfolio is positive. When the market goes down, the return of portfolio declines with the market."
   ]
  },
  {
   "cell_type": "markdown",
   "metadata": {},
   "source": [
    "#### Calculate the mean monthly return for each of the ten industry portfolios, as well as the market portfolio. Regress the mean monthly returns of the ten industry portfolios and the market portfolio on the corresponding betas (by construction, the market portfolio has beta of one). This will give you the slope and intercept coefficients for the SML. "
   ]
  },
  {
   "cell_type": "code",
   "execution_count": 69,
   "metadata": {},
   "outputs": [],
   "source": [
    "mean_industry=np.mean(industry,axis=0)\n"
   ]
  },
  {
   "cell_type": "code",
   "execution_count": 70,
   "metadata": {},
   "outputs": [
    {
     "name": "stdout",
     "output_type": "stream",
     "text": [
      "[0.90283333 0.73333333 1.01283333 1.23116667 0.76625    0.88141667\n",
      " 0.91633333 0.78383333 0.90716667 0.48908333]\n",
      "0.7480833333333334\n",
      "[0.652647355963541, 1.648535649966647, 1.1698462964148781, 0.9698499564640055, 1.1329694391423129, 0.9007292509476117, 0.8264924015201599, 0.6730356956329144, 0.5380861001316399, 1.2073094586151105]\n"
     ]
    }
   ],
   "source": [
    "mean_industry=np.array(mean_industry[1:11])\n",
    "mean_market=np.array(np.mean(market[1]))\n",
    "print(mean_industry)\n",
    "print(mean_market)\n",
    "print(beta)\n",
    "beta=beta+[1]\n",
    "mean_industry=np.hstack([mean_industry,mean_market])\n",
    "reg1=np.polyfit(beta,mean_industry,deg=1)\n"
   ]
  },
  {
   "cell_type": "markdown",
   "metadata": {},
   "source": [
    "#### Using the estimated slope and intercept coefficients, plot the SML in the range of beta from zero to two on the horizontal axis. Also plot the positions of the ten industry portfolios and the market portfolio. "
   ]
  },
  {
   "cell_type": "code",
   "execution_count": 73,
   "metadata": {},
   "outputs": [
    {
     "data": {
      "image/png": "[encoded data removed]",
      "text/plain": [
       "<Figure size 432x288 with 1 Axes>"
      ]
     },
     "metadata": {
      "needs_background": "light"
     },
     "output_type": "display_data"
    }
   ],
   "source": [
    "fig=plt.figure()\n",
    "\n",
    "plt.xlim(0,2)\n",
    "plt.xlabel('beta')\n",
    "plt.ylabel('R')\n",
    "# scatter\n",
    "plt.scatter(beta,mean_industry)\n",
    "#market portfolio\n",
    "plt.scatter(1,mean_market)\n",
    "plt.plot([1,1],[0,mean_market],'k--')\n",
    "plt.plot([0,1],[mean_market,mean_market],'k--')\n",
    "plt.annotate(r'market potfolio', xy=(1, mean_market), xycoords='data', xytext=(+30, -30), textcoords='offset points', fontsize=12,arrowprops=dict(arrowstyle='->',connectionstyle='arc3,rad=.2') ) \n",
    "#SML\n",
    "x=np.linspace(0,2,100)\n",
    "y=reg1[1]+reg1[0]*x\n",
    "plt.plot(x,y,label='SML')\n",
    "plt.legend()\n",
    "plt.show()"
   ]
  },
  {
   "cell_type": "markdown",
   "metadata": {},
   "source": [
    "#### Briefly explain the economic significance of the SML."
   ]
  },
  {
   "cell_type": "markdown",
   "metadata": {},
   "source": [
    ">The securities market line provides a detailed description of the relationship between expected return and risk of securities portfolio. The expected return of any portfolios consists of two parts: one is risk-free rate and the other is [E(rp)-Rf].<br>\n",
    "If any portfolio falls above SML, which has a higher treynor ratio, all investor will want to buy and price will rise up,casuing return to drop and eventually falls on SML <br>\n",
    "Risk-free rate can be considered as compensation for the abandonment of immediate consumption.<br>\n",
    "[E(rp)-Rf] is known as risk premium. It is proportional to the magnitude of risk that is due to beta. Risk premium represents the compensation for unit risk, as know as the price of risk.<br>\n"
   ]
  },
  {
   "cell_type": "code",
   "execution_count": null,
   "metadata": {},
   "outputs": [],
   "source": []
  }
 ],
 "metadata": {
  "kernelspec": {
   "display_name": "Python 3",
   "language": "python",
   "name": "python3"
  },
  "language_info": {
   "codemirror_mode": {
    "name": "ipython",
    "version": 3
   },
   "file_extension": ".py",
   "mimetype": "text/x-python",
   "name": "python",
   "nbconvert_exporter": "python",
   "pygments_lexer": "ipython3",
   "version": "3.8.3"
  }
 },
 "nbformat": 4,
 "nbformat_minor": 4
}
